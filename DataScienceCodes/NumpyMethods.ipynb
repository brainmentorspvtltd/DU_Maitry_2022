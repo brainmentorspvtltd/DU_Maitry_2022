{
 "cells": [
  {
   "cell_type": "markdown",
   "id": "090bc322",
   "metadata": {},
   "source": [
    "# Methods in Numpy"
   ]
  },
  {
   "cell_type": "code",
   "execution_count": 1,
   "id": "92e4733c",
   "metadata": {},
   "outputs": [],
   "source": [
    "import numpy as np"
   ]
  },
  {
   "cell_type": "code",
   "execution_count": 2,
   "id": "ff000cf9",
   "metadata": {},
   "outputs": [],
   "source": [
    "x = np.random.randint(1,50,24)"
   ]
  },
  {
   "cell_type": "code",
   "execution_count": 6,
   "id": "b59fc95a",
   "metadata": {},
   "outputs": [
    {
     "data": {
      "text/plain": [
       "array([18,  6, 23,  9, 24, 32, 38,  6, 38, 39, 43, 11,  3, 30, 38, 46,  1,\n",
       "       10,  5, 18,  1, 18, 23, 40])"
      ]
     },
     "execution_count": 6,
     "metadata": {},
     "output_type": "execute_result"
    }
   ],
   "source": [
    "x"
   ]
  },
  {
   "cell_type": "code",
   "execution_count": 3,
   "id": "a0c5dc3c",
   "metadata": {},
   "outputs": [
    {
     "data": {
      "text/plain": [
       "(24,)"
      ]
     },
     "execution_count": 3,
     "metadata": {},
     "output_type": "execute_result"
    }
   ],
   "source": [
    "np.shape(x)"
   ]
  },
  {
   "cell_type": "code",
   "execution_count": 4,
   "id": "722c5274",
   "metadata": {},
   "outputs": [
    {
     "data": {
      "text/plain": [
       "(24,)"
      ]
     },
     "execution_count": 4,
     "metadata": {},
     "output_type": "execute_result"
    }
   ],
   "source": [
    "x.shape"
   ]
  },
  {
   "cell_type": "code",
   "execution_count": 5,
   "id": "25b0021a",
   "metadata": {},
   "outputs": [
    {
     "data": {
      "text/plain": [
       "1"
      ]
     },
     "execution_count": 5,
     "metadata": {},
     "output_type": "execute_result"
    }
   ],
   "source": [
    "np.min(x)"
   ]
  },
  {
   "cell_type": "code",
   "execution_count": 7,
   "id": "94eb33ff",
   "metadata": {},
   "outputs": [
    {
     "data": {
      "text/plain": [
       "46"
      ]
     },
     "execution_count": 7,
     "metadata": {},
     "output_type": "execute_result"
    }
   ],
   "source": [
    "np.max(x)"
   ]
  },
  {
   "cell_type": "code",
   "execution_count": 8,
   "id": "9d2fdb1f",
   "metadata": {},
   "outputs": [
    {
     "data": {
      "text/plain": [
       "520"
      ]
     },
     "execution_count": 8,
     "metadata": {},
     "output_type": "execute_result"
    }
   ],
   "source": [
    "np.sum(x)"
   ]
  },
  {
   "cell_type": "code",
   "execution_count": 9,
   "id": "8eb78781",
   "metadata": {},
   "outputs": [
    {
     "data": {
      "text/plain": [
       "21.666666666666668"
      ]
     },
     "execution_count": 9,
     "metadata": {},
     "output_type": "execute_result"
    }
   ],
   "source": [
    "np.mean(x)"
   ]
  },
  {
   "cell_type": "code",
   "execution_count": 10,
   "id": "d0829fd9",
   "metadata": {},
   "outputs": [
    {
     "data": {
      "text/plain": [
       "20.5"
      ]
     },
     "execution_count": 10,
     "metadata": {},
     "output_type": "execute_result"
    }
   ],
   "source": [
    "np.median(x)"
   ]
  },
  {
   "cell_type": "code",
   "execution_count": 11,
   "id": "d68065f4",
   "metadata": {},
   "outputs": [
    {
     "data": {
      "text/plain": [
       "14.564988461680597"
      ]
     },
     "execution_count": 11,
     "metadata": {},
     "output_type": "execute_result"
    }
   ],
   "source": [
    "np.std(x)"
   ]
  },
  {
   "cell_type": "code",
   "execution_count": 12,
   "id": "34de1381",
   "metadata": {},
   "outputs": [
    {
     "data": {
      "text/plain": [
       "212.1388888888889"
      ]
     },
     "execution_count": 12,
     "metadata": {},
     "output_type": "execute_result"
    }
   ],
   "source": [
    "np.var(x)"
   ]
  },
  {
   "cell_type": "code",
   "execution_count": 13,
   "id": "1f670f50",
   "metadata": {},
   "outputs": [
    {
     "data": {
      "text/plain": [
       "array([ 1,  1,  3,  5,  6,  6,  9, 10, 11, 18, 18, 18, 23, 23, 24, 30, 32,\n",
       "       38, 38, 38, 39, 40, 43, 46])"
      ]
     },
     "execution_count": 13,
     "metadata": {},
     "output_type": "execute_result"
    }
   ],
   "source": [
    "np.sort(x)"
   ]
  },
  {
   "cell_type": "code",
   "execution_count": 14,
   "id": "e012ee10",
   "metadata": {},
   "outputs": [
    {
     "data": {
      "text/plain": [
       "array([18,  6, 23,  9, 24, 32, 38,  6, 38, 39, 43, 11,  3, 30, 38, 46,  1,\n",
       "       10,  5, 18,  1, 18, 23, 40])"
      ]
     },
     "execution_count": 14,
     "metadata": {},
     "output_type": "execute_result"
    }
   ],
   "source": [
    "x"
   ]
  },
  {
   "cell_type": "code",
   "execution_count": 15,
   "id": "673dc031",
   "metadata": {},
   "outputs": [
    {
     "data": {
      "text/plain": [
       "46"
      ]
     },
     "execution_count": 15,
     "metadata": {},
     "output_type": "execute_result"
    }
   ],
   "source": [
    "np.max(x)"
   ]
  },
  {
   "cell_type": "code",
   "execution_count": 16,
   "id": "96a1a1a0",
   "metadata": {},
   "outputs": [
    {
     "data": {
      "text/plain": [
       "15"
      ]
     },
     "execution_count": 16,
     "metadata": {},
     "output_type": "execute_result"
    }
   ],
   "source": [
    "# index of max element\n",
    "np.argmax(x)"
   ]
  },
  {
   "cell_type": "code",
   "execution_count": 17,
   "id": "f8a6aa13",
   "metadata": {},
   "outputs": [
    {
     "data": {
      "text/plain": [
       "1"
      ]
     },
     "execution_count": 17,
     "metadata": {},
     "output_type": "execute_result"
    }
   ],
   "source": [
    "np.min(x)"
   ]
  },
  {
   "cell_type": "code",
   "execution_count": 18,
   "id": "29fdc674",
   "metadata": {},
   "outputs": [
    {
     "data": {
      "text/plain": [
       "16"
      ]
     },
     "execution_count": 18,
     "metadata": {},
     "output_type": "execute_result"
    }
   ],
   "source": [
    "# index of min element\n",
    "np.argmin(x)"
   ]
  },
  {
   "cell_type": "code",
   "execution_count": 19,
   "id": "591563c4",
   "metadata": {},
   "outputs": [
    {
     "data": {
      "text/plain": [
       "array([20, 16, 12, 18,  1,  7,  3, 17, 11, 21, 19,  0,  2, 22,  4, 13,  5,\n",
       "       14,  8,  6,  9, 23, 10, 15], dtype=int64)"
      ]
     },
     "execution_count": 19,
     "metadata": {},
     "output_type": "execute_result"
    }
   ],
   "source": [
    "np.argsort(x)"
   ]
  },
  {
   "cell_type": "code",
   "execution_count": 20,
   "id": "21f2a622",
   "metadata": {},
   "outputs": [
    {
     "data": {
      "text/plain": [
       "array([[18,  6, 23,  9, 24, 32],\n",
       "       [38,  6, 38, 39, 43, 11],\n",
       "       [ 3, 30, 38, 46,  1, 10],\n",
       "       [ 5, 18,  1, 18, 23, 40]])"
      ]
     },
     "execution_count": 20,
     "metadata": {},
     "output_type": "execute_result"
    }
   ],
   "source": [
    "np.reshape(x, (4,6))"
   ]
  },
  {
   "cell_type": "code",
   "execution_count": 22,
   "id": "6e0da0e2",
   "metadata": {},
   "outputs": [
    {
     "data": {
      "text/plain": [
       "array([[18,  6, 23,  9],\n",
       "       [24, 32, 38,  6],\n",
       "       [38, 39, 43, 11],\n",
       "       [ 3, 30, 38, 46],\n",
       "       [ 1, 10,  5, 18],\n",
       "       [ 1, 18, 23, 40]])"
      ]
     },
     "execution_count": 22,
     "metadata": {},
     "output_type": "execute_result"
    }
   ],
   "source": [
    "np.reshape(x, (6,4))"
   ]
  },
  {
   "cell_type": "code",
   "execution_count": 23,
   "id": "fdd0c2bd",
   "metadata": {},
   "outputs": [
    {
     "data": {
      "text/plain": [
       "array([[18,  6, 23,  9, 24, 32, 38,  6],\n",
       "       [38, 39, 43, 11,  3, 30, 38, 46],\n",
       "       [ 1, 10,  5, 18,  1, 18, 23, 40]])"
      ]
     },
     "execution_count": 23,
     "metadata": {},
     "output_type": "execute_result"
    }
   ],
   "source": [
    "np.reshape(x, (3,8))"
   ]
  },
  {
   "cell_type": "code",
   "execution_count": 24,
   "id": "576959ff",
   "metadata": {},
   "outputs": [
    {
     "data": {
      "text/plain": [
       "array([[18,  6, 23,  9, 24, 32],\n",
       "       [38,  6, 38, 39, 43, 11],\n",
       "       [ 3, 30, 38, 46,  1, 10],\n",
       "       [ 5, 18,  1, 18, 23, 40]])"
      ]
     },
     "execution_count": 24,
     "metadata": {},
     "output_type": "execute_result"
    }
   ],
   "source": [
    "x.reshape((-1, 6))"
   ]
  },
  {
   "cell_type": "code",
   "execution_count": 25,
   "id": "38f89cdf",
   "metadata": {},
   "outputs": [
    {
     "data": {
      "text/plain": [
       "array([[18,  6, 23,  9, 24, 32, 38,  6],\n",
       "       [38, 39, 43, 11,  3, 30, 38, 46],\n",
       "       [ 1, 10,  5, 18,  1, 18, 23, 40]])"
      ]
     },
     "execution_count": 25,
     "metadata": {},
     "output_type": "execute_result"
    }
   ],
   "source": [
    "x.reshape((3,-1))"
   ]
  },
  {
   "cell_type": "code",
   "execution_count": 26,
   "id": "b482a3af",
   "metadata": {},
   "outputs": [],
   "source": [
    "y = x.reshape((4, -1))"
   ]
  },
  {
   "cell_type": "code",
   "execution_count": 27,
   "id": "c82257ee",
   "metadata": {},
   "outputs": [
    {
     "data": {
      "text/plain": [
       "array([[18,  6, 23,  9, 24, 32],\n",
       "       [38,  6, 38, 39, 43, 11],\n",
       "       [ 3, 30, 38, 46,  1, 10],\n",
       "       [ 5, 18,  1, 18, 23, 40]])"
      ]
     },
     "execution_count": 27,
     "metadata": {},
     "output_type": "execute_result"
    }
   ],
   "source": [
    "y"
   ]
  },
  {
   "cell_type": "code",
   "execution_count": 28,
   "id": "8b6a52db",
   "metadata": {},
   "outputs": [
    {
     "data": {
      "text/plain": [
       "1"
      ]
     },
     "execution_count": 28,
     "metadata": {},
     "output_type": "execute_result"
    }
   ],
   "source": [
    "y.min()"
   ]
  },
  {
   "cell_type": "code",
   "execution_count": 29,
   "id": "b096a74c",
   "metadata": {},
   "outputs": [
    {
     "data": {
      "text/plain": [
       "520"
      ]
     },
     "execution_count": 29,
     "metadata": {},
     "output_type": "execute_result"
    }
   ],
   "source": [
    "y.sum()"
   ]
  },
  {
   "cell_type": "code",
   "execution_count": 30,
   "id": "770c3a37",
   "metadata": {},
   "outputs": [
    {
     "data": {
      "text/plain": [
       "array([ 3,  6,  1,  9,  1, 10])"
      ]
     },
     "execution_count": 30,
     "metadata": {},
     "output_type": "execute_result"
    }
   ],
   "source": [
    "# minimum in each column\n",
    "y.min(axis=0)"
   ]
  },
  {
   "cell_type": "code",
   "execution_count": 31,
   "id": "06c8d052",
   "metadata": {},
   "outputs": [
    {
     "data": {
      "text/plain": [
       "array([38, 30, 38, 46, 43, 40])"
      ]
     },
     "execution_count": 31,
     "metadata": {},
     "output_type": "execute_result"
    }
   ],
   "source": [
    "y.max(axis=0)"
   ]
  },
  {
   "cell_type": "code",
   "execution_count": 32,
   "id": "a607b3e2",
   "metadata": {},
   "outputs": [
    {
     "data": {
      "text/plain": [
       "array([112, 175, 128, 105])"
      ]
     },
     "execution_count": 32,
     "metadata": {},
     "output_type": "execute_result"
    }
   ],
   "source": [
    "# sum of each row\n",
    "y.sum(axis=1)"
   ]
  },
  {
   "cell_type": "code",
   "execution_count": 33,
   "id": "6580fdff",
   "metadata": {},
   "outputs": [
    {
     "data": {
      "text/plain": [
       "array([18.66666667, 29.16666667, 21.33333333, 17.5       ])"
      ]
     },
     "execution_count": 33,
     "metadata": {},
     "output_type": "execute_result"
    }
   ],
   "source": [
    "y.mean(axis=1)"
   ]
  },
  {
   "cell_type": "code",
   "execution_count": 34,
   "id": "178fed02",
   "metadata": {},
   "outputs": [
    {
     "data": {
      "text/plain": [
       "array([16.  , 15.  , 25.  , 28.  , 22.75, 23.25])"
      ]
     },
     "execution_count": 34,
     "metadata": {},
     "output_type": "execute_result"
    }
   ],
   "source": [
    "y.mean(axis=0)"
   ]
  },
  {
   "cell_type": "code",
   "execution_count": 35,
   "id": "f0ae602e",
   "metadata": {},
   "outputs": [
    {
     "data": {
      "text/plain": [
       "array([18,  6, 23,  9, 24, 32, 38,  6, 38, 39, 43, 11,  3, 30, 38, 46,  1,\n",
       "       10,  5, 18,  1, 18, 23, 40])"
      ]
     },
     "execution_count": 35,
     "metadata": {},
     "output_type": "execute_result"
    }
   ],
   "source": [
    "# converts data into 1D\n",
    "y.flatten()"
   ]
  },
  {
   "cell_type": "code",
   "execution_count": 37,
   "id": "c066521a",
   "metadata": {},
   "outputs": [
    {
     "data": {
      "text/plain": [
       "(4, 6)"
      ]
     },
     "execution_count": 37,
     "metadata": {},
     "output_type": "execute_result"
    }
   ],
   "source": [
    "y.shape"
   ]
  },
  {
   "cell_type": "code",
   "execution_count": 40,
   "id": "10fb46a1",
   "metadata": {},
   "outputs": [
    {
     "data": {
      "text/plain": [
       "array([18,  6, 23,  9, 24, 32, 38,  6, 38, 39, 43, 11,  3, 30, 38, 46,  1,\n",
       "       10,  5, 18,  1, 18, 23, 40])"
      ]
     },
     "execution_count": 40,
     "metadata": {},
     "output_type": "execute_result"
    }
   ],
   "source": [
    "x"
   ]
  },
  {
   "cell_type": "code",
   "execution_count": 43,
   "id": "514c9265",
   "metadata": {},
   "outputs": [
    {
     "data": {
      "text/plain": [
       "(array([ 5,  6,  8,  9, 10, 14, 15, 23], dtype=int64),)"
      ]
     },
     "execution_count": 43,
     "metadata": {},
     "output_type": "execute_result"
    }
   ],
   "source": [
    "# returns index where x > 30\n",
    "np.where(x > 30)"
   ]
  },
  {
   "cell_type": "code",
   "execution_count": 44,
   "id": "cd996a90",
   "metadata": {},
   "outputs": [
    {
     "data": {
      "text/plain": [
       "(array([0, 1, 1, 1, 1, 2, 2, 3], dtype=int64),\n",
       " array([5, 0, 2, 3, 4, 2, 3, 5], dtype=int64))"
      ]
     },
     "execution_count": 44,
     "metadata": {},
     "output_type": "execute_result"
    }
   ],
   "source": [
    "np.where(y > 30)"
   ]
  },
  {
   "cell_type": "code",
   "execution_count": 45,
   "id": "a298b5d0",
   "metadata": {},
   "outputs": [
    {
     "data": {
      "text/plain": [
       "array([[18,  6, 23,  9, 24, 32],\n",
       "       [38,  6, 38, 39, 43, 11],\n",
       "       [ 3, 30, 38, 46,  1, 10],\n",
       "       [ 5, 18,  1, 18, 23, 40]])"
      ]
     },
     "execution_count": 45,
     "metadata": {},
     "output_type": "execute_result"
    }
   ],
   "source": [
    "y"
   ]
  },
  {
   "cell_type": "code",
   "execution_count": 46,
   "id": "d81b1abc",
   "metadata": {},
   "outputs": [
    {
     "data": {
      "text/plain": [
       "array([[18,  6, 23,  9, 24, 42],\n",
       "       [48,  6, 48, 49, 53, 11],\n",
       "       [ 3, 30, 48, 56,  1, 10],\n",
       "       [ 5, 18,  1, 18, 23, 50]])"
      ]
     },
     "execution_count": 46,
     "metadata": {},
     "output_type": "execute_result"
    }
   ],
   "source": [
    "np.where(y > 30, y + 10, y)"
   ]
  },
  {
   "cell_type": "code",
   "execution_count": 47,
   "id": "71ef47cd",
   "metadata": {},
   "outputs": [
    {
     "data": {
      "text/plain": [
       "array([[18,  6, 23,  9, 24, 32],\n",
       "       [38,  6, 38, 39, 43, 11],\n",
       "       [ 3, 30, 38, 46,  1, 10],\n",
       "       [ 5, 18,  1, 18, 23, 40]])"
      ]
     },
     "execution_count": 47,
     "metadata": {},
     "output_type": "execute_result"
    }
   ],
   "source": [
    "y"
   ]
  },
  {
   "cell_type": "code",
   "execution_count": 55,
   "id": "2083d0a2",
   "metadata": {},
   "outputs": [],
   "source": [
    "row = np.array([[101,102,103,104,105,106]])\n",
    "col = np.array([[99],[98],[97],[96]])"
   ]
  },
  {
   "cell_type": "code",
   "execution_count": 56,
   "id": "1edb1704",
   "metadata": {},
   "outputs": [
    {
     "data": {
      "text/plain": [
       "array([[ 18,   6,  23,   9,  24,  32],\n",
       "       [ 38,   6,  38,  39,  43,  11],\n",
       "       [  3,  30,  38,  46,   1,  10],\n",
       "       [  5,  18,   1,  18,  23,  40],\n",
       "       [101, 102, 103, 104, 105, 106]])"
      ]
     },
     "execution_count": 56,
     "metadata": {},
     "output_type": "execute_result"
    }
   ],
   "source": [
    "np.vstack((y, row))"
   ]
  },
  {
   "cell_type": "code",
   "execution_count": 57,
   "id": "1eb19482",
   "metadata": {},
   "outputs": [
    {
     "data": {
      "text/plain": [
       "array([[18,  6, 23,  9, 24, 32, 99],\n",
       "       [38,  6, 38, 39, 43, 11, 98],\n",
       "       [ 3, 30, 38, 46,  1, 10, 97],\n",
       "       [ 5, 18,  1, 18, 23, 40, 96]])"
      ]
     },
     "execution_count": 57,
     "metadata": {},
     "output_type": "execute_result"
    }
   ],
   "source": [
    "np.hstack((y, col))"
   ]
  },
  {
   "cell_type": "code",
   "execution_count": 58,
   "id": "71c73de3",
   "metadata": {},
   "outputs": [
    {
     "data": {
      "text/plain": [
       "array([[ 18,   6,  23,   9,  24,  32],\n",
       "       [ 38,   6,  38,  39,  43,  11],\n",
       "       [  3,  30,  38,  46,   1,  10],\n",
       "       [  5,  18,   1,  18,  23,  40],\n",
       "       [101, 102, 103, 104, 105, 106]])"
      ]
     },
     "execution_count": 58,
     "metadata": {},
     "output_type": "execute_result"
    }
   ],
   "source": [
    "np.r_[y, row]"
   ]
  },
  {
   "cell_type": "code",
   "execution_count": 59,
   "id": "a8d718e9",
   "metadata": {},
   "outputs": [
    {
     "data": {
      "text/plain": [
       "array([[18,  6, 23,  9, 24, 32, 99],\n",
       "       [38,  6, 38, 39, 43, 11, 98],\n",
       "       [ 3, 30, 38, 46,  1, 10, 97],\n",
       "       [ 5, 18,  1, 18, 23, 40, 96]])"
      ]
     },
     "execution_count": 59,
     "metadata": {},
     "output_type": "execute_result"
    }
   ],
   "source": [
    "np.c_[y, col]"
   ]
  },
  {
   "cell_type": "code",
   "execution_count": null,
   "id": "b4153160",
   "metadata": {},
   "outputs": [],
   "source": []
  }
 ],
 "metadata": {
  "kernelspec": {
   "display_name": "Python 3 (ipykernel)",
   "language": "python",
   "name": "python3"
  },
  "language_info": {
   "codemirror_mode": {
    "name": "ipython",
    "version": 3
   },
   "file_extension": ".py",
   "mimetype": "text/x-python",
   "name": "python",
   "nbconvert_exporter": "python",
   "pygments_lexer": "ipython3",
   "version": "3.9.7"
  }
 },
 "nbformat": 4,
 "nbformat_minor": 5
}
