{
 "cells": [
  {
   "cell_type": "code",
   "execution_count": 1,
   "id": "82806238",
   "metadata": {},
   "outputs": [],
   "source": [
    "import numpy as np"
   ]
  },
  {
   "cell_type": "markdown",
   "id": "fb46eb2e",
   "metadata": {},
   "source": [
    "# Ways to create array"
   ]
  },
  {
   "cell_type": "code",
   "execution_count": 2,
   "id": "aec55a47",
   "metadata": {},
   "outputs": [
    {
     "data": {
      "text/plain": [
       "array([ 3,  5,  1,  6,  8, 12])"
      ]
     },
     "execution_count": 2,
     "metadata": {},
     "output_type": "execute_result"
    }
   ],
   "source": [
    "np.array([3,5,1,6,8,12,])"
   ]
  },
  {
   "cell_type": "code",
   "execution_count": 3,
   "id": "8592e951",
   "metadata": {},
   "outputs": [],
   "source": [
    "x = np.array([[3,2,4,6],[1,2,4,5],[2,2,7,12]])"
   ]
  },
  {
   "cell_type": "code",
   "execution_count": 4,
   "id": "d21f54bf",
   "metadata": {},
   "outputs": [
    {
     "data": {
      "text/plain": [
       "array([[ 3,  2,  4,  6],\n",
       "       [ 1,  2,  4,  5],\n",
       "       [ 2,  2,  7, 12]])"
      ]
     },
     "execution_count": 4,
     "metadata": {},
     "output_type": "execute_result"
    }
   ],
   "source": [
    "x"
   ]
  },
  {
   "cell_type": "code",
   "execution_count": 5,
   "id": "229e9dc0",
   "metadata": {},
   "outputs": [
    {
     "data": {
      "text/plain": [
       "array([[ 8,  7,  9, 11],\n",
       "       [ 6,  7,  9, 10],\n",
       "       [ 7,  7, 12, 17]])"
      ]
     },
     "execution_count": 5,
     "metadata": {},
     "output_type": "execute_result"
    }
   ],
   "source": [
    "x + 5"
   ]
  },
  {
   "cell_type": "code",
   "execution_count": 6,
   "id": "f624bf30",
   "metadata": {},
   "outputs": [
    {
     "data": {
      "text/plain": [
       "array([[ 2,  1,  3,  5],\n",
       "       [ 0,  1,  3,  4],\n",
       "       [ 1,  1,  6, 11]])"
      ]
     },
     "execution_count": 6,
     "metadata": {},
     "output_type": "execute_result"
    }
   ],
   "source": [
    "x - 1"
   ]
  },
  {
   "cell_type": "code",
   "execution_count": 7,
   "id": "27815b49",
   "metadata": {},
   "outputs": [
    {
     "data": {
      "text/plain": [
       "array([ 1,  2,  3,  4,  5,  6,  7,  8,  9, 10])"
      ]
     },
     "execution_count": 7,
     "metadata": {},
     "output_type": "execute_result"
    }
   ],
   "source": [
    "np.arange(1,11)"
   ]
  },
  {
   "cell_type": "code",
   "execution_count": 8,
   "id": "b6015781",
   "metadata": {},
   "outputs": [
    {
     "data": {
      "text/plain": [
       "array([ 2,  4,  6,  8, 10, 12, 14, 16, 18, 20])"
      ]
     },
     "execution_count": 8,
     "metadata": {},
     "output_type": "execute_result"
    }
   ],
   "source": [
    "np.arange(2,21,2)"
   ]
  },
  {
   "cell_type": "code",
   "execution_count": 14,
   "id": "dacfa171",
   "metadata": {},
   "outputs": [
    {
     "data": {
      "text/plain": [
       "array([ 2.,  4.,  6.,  8., 10., 12., 14., 16., 18., 20.], dtype=float32)"
      ]
     },
     "execution_count": 14,
     "metadata": {},
     "output_type": "execute_result"
    }
   ],
   "source": [
    "np.arange(2, 21, 2, dtype='float32')"
   ]
  },
  {
   "cell_type": "code",
   "execution_count": 17,
   "id": "8af677b4",
   "metadata": {},
   "outputs": [
    {
     "data": {
      "text/plain": [
       "(array([ 2.  ,  2.75,  3.5 ,  4.25,  5.  ,  5.75,  6.5 ,  7.25,  8.  ,\n",
       "         8.75,  9.5 , 10.25, 11.  , 11.75, 12.5 , 13.25, 14.  , 14.75,\n",
       "        15.5 , 16.25, 17.  , 17.75, 18.5 , 19.25, 20.  ]),\n",
       " 0.75)"
      ]
     },
     "execution_count": 17,
     "metadata": {},
     "output_type": "execute_result"
    }
   ],
   "source": [
    "# linspace = linear space\n",
    "np.linspace(2, 20, num=25, retstep=True)"
   ]
  },
  {
   "cell_type": "code",
   "execution_count": 18,
   "id": "ac6f77a1",
   "metadata": {},
   "outputs": [
    {
     "data": {
      "text/plain": [
       "array([0., 0., 0., 0., 0.])"
      ]
     },
     "execution_count": 18,
     "metadata": {},
     "output_type": "execute_result"
    }
   ],
   "source": [
    "np.zeros(5)"
   ]
  },
  {
   "cell_type": "code",
   "execution_count": 19,
   "id": "2ae43caa",
   "metadata": {},
   "outputs": [
    {
     "data": {
      "text/plain": [
       "array([[0., 0., 0., 0.],\n",
       "       [0., 0., 0., 0.],\n",
       "       [0., 0., 0., 0.],\n",
       "       [0., 0., 0., 0.]])"
      ]
     },
     "execution_count": 19,
     "metadata": {},
     "output_type": "execute_result"
    }
   ],
   "source": [
    "np.zeros([4,4])"
   ]
  },
  {
   "cell_type": "code",
   "execution_count": 20,
   "id": "09577f5b",
   "metadata": {},
   "outputs": [
    {
     "data": {
      "text/plain": [
       "array([1., 1., 1., 1.])"
      ]
     },
     "execution_count": 20,
     "metadata": {},
     "output_type": "execute_result"
    }
   ],
   "source": [
    "np.ones(4)"
   ]
  },
  {
   "cell_type": "code",
   "execution_count": 22,
   "id": "766a06e8",
   "metadata": {},
   "outputs": [
    {
     "data": {
      "text/plain": [
       "array([[1., 1., 1., 1., 1., 1.],\n",
       "       [1., 1., 1., 1., 1., 1.],\n",
       "       [1., 1., 1., 1., 1., 1.],\n",
       "       [1., 1., 1., 1., 1., 1.]])"
      ]
     },
     "execution_count": 22,
     "metadata": {},
     "output_type": "execute_result"
    }
   ],
   "source": [
    "np.ones([4,6])"
   ]
  },
  {
   "cell_type": "code",
   "execution_count": 23,
   "id": "6ee37244",
   "metadata": {},
   "outputs": [
    {
     "data": {
      "text/plain": [
       "array([[1., 0., 0., 0., 0.],\n",
       "       [0., 1., 0., 0., 0.],\n",
       "       [0., 0., 1., 0., 0.],\n",
       "       [0., 0., 0., 1., 0.],\n",
       "       [0., 0., 0., 0., 1.]])"
      ]
     },
     "execution_count": 23,
     "metadata": {},
     "output_type": "execute_result"
    }
   ],
   "source": [
    "np.identity(5)"
   ]
  },
  {
   "cell_type": "code",
   "execution_count": 24,
   "id": "908a66f1",
   "metadata": {},
   "outputs": [
    {
     "data": {
      "text/plain": [
       "array([[ 3,  2,  4,  6],\n",
       "       [ 1,  2,  4,  5],\n",
       "       [ 2,  2,  7, 12]])"
      ]
     },
     "execution_count": 24,
     "metadata": {},
     "output_type": "execute_result"
    }
   ],
   "source": [
    "x"
   ]
  },
  {
   "cell_type": "code",
   "execution_count": 25,
   "id": "656dff22",
   "metadata": {},
   "outputs": [
    {
     "data": {
      "text/plain": [
       "array([[0, 0, 0, 0],\n",
       "       [0, 0, 0, 0],\n",
       "       [0, 0, 0, 0]])"
      ]
     },
     "execution_count": 25,
     "metadata": {},
     "output_type": "execute_result"
    }
   ],
   "source": [
    "# will generate array of zeros of x dimension\n",
    "np.zeros_like(x)"
   ]
  },
  {
   "cell_type": "code",
   "execution_count": 27,
   "id": "b0bdea80",
   "metadata": {},
   "outputs": [
    {
     "data": {
      "text/plain": [
       "0.5655627741465267"
      ]
     },
     "execution_count": 27,
     "metadata": {},
     "output_type": "execute_result"
    }
   ],
   "source": [
    "# will return a random number b/w 0 to 1\n",
    "np.random.random()"
   ]
  },
  {
   "cell_type": "code",
   "execution_count": 28,
   "id": "3453123a",
   "metadata": {},
   "outputs": [
    {
     "data": {
      "text/plain": [
       "array([0.59341465, 0.54055714, 0.83038054, 0.03136836, 0.1934179 ])"
      ]
     },
     "execution_count": 28,
     "metadata": {},
     "output_type": "execute_result"
    }
   ],
   "source": [
    "# will return array with 5 random numbers\n",
    "np.random.random(5)"
   ]
  },
  {
   "cell_type": "code",
   "execution_count": 29,
   "id": "72ef4cf4",
   "metadata": {},
   "outputs": [
    {
     "data": {
      "text/plain": [
       "array([[0.93321435, 0.01337999, 0.3002849 , 0.35239903],\n",
       "       [0.35043681, 0.75785264, 0.25034823, 0.18885937],\n",
       "       [0.40066761, 0.34065061, 0.12176093, 0.27235662],\n",
       "       [0.07967693, 0.5954216 , 0.36201278, 0.48618266]])"
      ]
     },
     "execution_count": 29,
     "metadata": {},
     "output_type": "execute_result"
    }
   ],
   "source": [
    "# will return array of 4,4 dimension of random numbers\n",
    "np.random.random([4,4])"
   ]
  },
  {
   "cell_type": "code",
   "execution_count": 31,
   "id": "c96ea3de",
   "metadata": {},
   "outputs": [
    {
     "data": {
      "text/plain": [
       "-1.0571819469167554"
      ]
     },
     "execution_count": 31,
     "metadata": {},
     "output_type": "execute_result"
    }
   ],
   "source": [
    "np.random.randn()"
   ]
  },
  {
   "cell_type": "code",
   "execution_count": 32,
   "id": "622d9c54",
   "metadata": {},
   "outputs": [
    {
     "data": {
      "text/plain": [
       "array([-0.81265914,  1.37538912,  0.5763486 ,  0.13858927])"
      ]
     },
     "execution_count": 32,
     "metadata": {},
     "output_type": "execute_result"
    }
   ],
   "source": [
    "np.random.randn(4)"
   ]
  },
  {
   "cell_type": "code",
   "execution_count": 34,
   "id": "c28f342d",
   "metadata": {},
   "outputs": [
    {
     "data": {
      "text/plain": [
       "array([[ 0.12178898,  0.58290963,  0.60335466,  0.01699502],\n",
       "       [ 0.22150913,  0.43352201,  0.73878678,  0.02403251],\n",
       "       [ 1.05595667,  1.8705838 , -1.32758497,  0.42470974],\n",
       "       [ 0.29935178, -0.1424875 , -0.20689985,  0.2460898 ]])"
      ]
     },
     "execution_count": 34,
     "metadata": {},
     "output_type": "execute_result"
    }
   ],
   "source": [
    "np.random.randn(4,4)"
   ]
  },
  {
   "cell_type": "code",
   "execution_count": 35,
   "id": "f8442235",
   "metadata": {},
   "outputs": [
    {
     "data": {
      "text/plain": [
       "38"
      ]
     },
     "execution_count": 35,
     "metadata": {},
     "output_type": "execute_result"
    }
   ],
   "source": [
    "np.random.randint(1,100)"
   ]
  },
  {
   "cell_type": "code",
   "execution_count": 36,
   "id": "053b3b78",
   "metadata": {},
   "outputs": [
    {
     "data": {
      "text/plain": [
       "array([42, 96, 32,  5, 10, 97, 53, 31, 27, 68])"
      ]
     },
     "execution_count": 36,
     "metadata": {},
     "output_type": "execute_result"
    }
   ],
   "source": [
    "np.random.randint(1,100,10)"
   ]
  },
  {
   "cell_type": "code",
   "execution_count": 37,
   "id": "29c05fb4",
   "metadata": {},
   "outputs": [
    {
     "data": {
      "text/plain": [
       "array([[30, 17,  3, 98, 64, 56],\n",
       "       [33, 79, 63, 81, 68, 40],\n",
       "       [21,  3, 58, 54, 51, 14],\n",
       "       [96,  9, 55, 45, 45,  1]])"
      ]
     },
     "execution_count": 37,
     "metadata": {},
     "output_type": "execute_result"
    }
   ],
   "source": [
    "np.random.randint(1,100,[4,6])"
   ]
  },
  {
   "cell_type": "markdown",
   "id": "c9fcfd81",
   "metadata": {},
   "source": [
    "# Indexing and slicing"
   ]
  },
  {
   "cell_type": "code",
   "execution_count": 38,
   "id": "74f9ae82",
   "metadata": {},
   "outputs": [],
   "source": [
    "x = np.random.randint(1,100,20)"
   ]
  },
  {
   "cell_type": "code",
   "execution_count": 39,
   "id": "309fc817",
   "metadata": {},
   "outputs": [
    {
     "data": {
      "text/plain": [
       "array([66, 79, 31, 85, 60, 53, 64, 58, 91, 63, 81, 27, 87, 43, 47, 95, 73,\n",
       "       77, 22, 50])"
      ]
     },
     "execution_count": 39,
     "metadata": {},
     "output_type": "execute_result"
    }
   ],
   "source": [
    "x"
   ]
  },
  {
   "cell_type": "code",
   "execution_count": 40,
   "id": "0b73c04a",
   "metadata": {},
   "outputs": [
    {
     "data": {
      "text/plain": [
       "66"
      ]
     },
     "execution_count": 40,
     "metadata": {},
     "output_type": "execute_result"
    }
   ],
   "source": [
    "x[0]"
   ]
  },
  {
   "cell_type": "code",
   "execution_count": 41,
   "id": "4256df6e",
   "metadata": {},
   "outputs": [
    {
     "data": {
      "text/plain": [
       "50"
      ]
     },
     "execution_count": 41,
     "metadata": {},
     "output_type": "execute_result"
    }
   ],
   "source": [
    "x[-1]"
   ]
  },
  {
   "cell_type": "code",
   "execution_count": 42,
   "id": "67c12480",
   "metadata": {},
   "outputs": [
    {
     "data": {
      "text/plain": [
       "array([66, 79, 31, 85, 60])"
      ]
     },
     "execution_count": 42,
     "metadata": {},
     "output_type": "execute_result"
    }
   ],
   "source": [
    "x[0:5]"
   ]
  },
  {
   "cell_type": "code",
   "execution_count": 43,
   "id": "5de6f238",
   "metadata": {},
   "outputs": [
    {
     "data": {
      "text/plain": [
       "array([66, 31, 60, 64, 91])"
      ]
     },
     "execution_count": 43,
     "metadata": {},
     "output_type": "execute_result"
    }
   ],
   "source": [
    "x[0:10:2]"
   ]
  },
  {
   "cell_type": "code",
   "execution_count": 44,
   "id": "0fe3c71b",
   "metadata": {},
   "outputs": [],
   "source": [
    "x = np.random.randint(1,100,[4,6])"
   ]
  },
  {
   "cell_type": "code",
   "execution_count": 45,
   "id": "fae26f86",
   "metadata": {},
   "outputs": [
    {
     "data": {
      "text/plain": [
       "array([[35,  9, 53, 35, 23, 10],\n",
       "       [53, 45, 83, 51, 66, 86],\n",
       "       [87, 99, 29, 64, 73, 17],\n",
       "       [99, 42, 13, 43, 51, 42]])"
      ]
     },
     "execution_count": 45,
     "metadata": {},
     "output_type": "execute_result"
    }
   ],
   "source": [
    "x"
   ]
  },
  {
   "cell_type": "code",
   "execution_count": 46,
   "id": "b59876c3",
   "metadata": {},
   "outputs": [
    {
     "data": {
      "text/plain": [
       "array([35,  9, 53, 35, 23, 10])"
      ]
     },
     "execution_count": 46,
     "metadata": {},
     "output_type": "execute_result"
    }
   ],
   "source": [
    "# return 0th row\n",
    "x[0]"
   ]
  },
  {
   "cell_type": "code",
   "execution_count": 47,
   "id": "39c6fb0e",
   "metadata": {},
   "outputs": [
    {
     "data": {
      "text/plain": [
       "35"
      ]
     },
     "execution_count": 47,
     "metadata": {},
     "output_type": "execute_result"
    }
   ],
   "source": [
    "x[0][0]"
   ]
  },
  {
   "cell_type": "code",
   "execution_count": 49,
   "id": "38907e99",
   "metadata": {},
   "outputs": [
    {
     "data": {
      "text/plain": [
       "13"
      ]
     },
     "execution_count": 49,
     "metadata": {},
     "output_type": "execute_result"
    }
   ],
   "source": [
    "x[3][2]"
   ]
  },
  {
   "cell_type": "code",
   "execution_count": 50,
   "id": "3bfecde0",
   "metadata": {},
   "outputs": [
    {
     "data": {
      "text/plain": [
       "array([87, 99, 29, 64, 73, 17])"
      ]
     },
     "execution_count": 50,
     "metadata": {},
     "output_type": "execute_result"
    }
   ],
   "source": [
    "x[2]"
   ]
  },
  {
   "cell_type": "code",
   "execution_count": 51,
   "id": "d6e39f51",
   "metadata": {},
   "outputs": [
    {
     "data": {
      "text/plain": [
       "array([[35,  9, 53, 35, 23, 10],\n",
       "       [53, 45, 83, 51, 66, 86]])"
      ]
     },
     "execution_count": 51,
     "metadata": {},
     "output_type": "execute_result"
    }
   ],
   "source": [
    "x[0:2]"
   ]
  },
  {
   "cell_type": "code",
   "execution_count": 52,
   "id": "3a112d5a",
   "metadata": {},
   "outputs": [
    {
     "data": {
      "text/plain": [
       "array([35, 53, 87, 99])"
      ]
     },
     "execution_count": 52,
     "metadata": {},
     "output_type": "execute_result"
    }
   ],
   "source": [
    "x[:, 0]"
   ]
  },
  {
   "cell_type": "code",
   "execution_count": 53,
   "id": "997f80e5",
   "metadata": {},
   "outputs": [
    {
     "data": {
      "text/plain": [
       "array([[35,  9],\n",
       "       [53, 45],\n",
       "       [87, 99],\n",
       "       [99, 42]])"
      ]
     },
     "execution_count": 53,
     "metadata": {},
     "output_type": "execute_result"
    }
   ],
   "source": [
    "x[:, 0:2]"
   ]
  },
  {
   "cell_type": "code",
   "execution_count": 54,
   "id": "a074692e",
   "metadata": {},
   "outputs": [
    {
     "data": {
      "text/plain": [
       "array([[83, 51],\n",
       "       [29, 64]])"
      ]
     },
     "execution_count": 54,
     "metadata": {},
     "output_type": "execute_result"
    }
   ],
   "source": [
    "x[1:3, 2:4]"
   ]
  },
  {
   "cell_type": "code",
   "execution_count": 55,
   "id": "3502473d",
   "metadata": {},
   "outputs": [],
   "source": [
    "x = np.random.randint(1,100,[3,6,4])"
   ]
  },
  {
   "cell_type": "code",
   "execution_count": 56,
   "id": "7a89c7f3",
   "metadata": {},
   "outputs": [
    {
     "data": {
      "text/plain": [
       "array([[[84,  3, 54, 77],\n",
       "        [58, 32, 72,  5],\n",
       "        [85, 15, 38, 66],\n",
       "        [92, 77, 61, 82],\n",
       "        [59, 18, 18, 61],\n",
       "        [ 2, 73, 24, 59]],\n",
       "\n",
       "       [[34, 59, 49, 90],\n",
       "        [12,  5, 92, 19],\n",
       "        [69, 74, 20, 94],\n",
       "        [48, 83, 71, 79],\n",
       "        [34, 92, 81, 85],\n",
       "        [ 3, 61, 87, 68]],\n",
       "\n",
       "       [[80,  4, 69, 31],\n",
       "        [99, 43, 54,  3],\n",
       "        [11, 37, 29, 14],\n",
       "        [79, 65, 37, 45],\n",
       "        [97, 37, 84, 13],\n",
       "        [71, 71, 97, 61]]])"
      ]
     },
     "execution_count": 56,
     "metadata": {},
     "output_type": "execute_result"
    }
   ],
   "source": [
    "x"
   ]
  },
  {
   "cell_type": "code",
   "execution_count": 57,
   "id": "afd4cf25",
   "metadata": {},
   "outputs": [
    {
     "data": {
      "text/plain": [
       "array([[84,  3, 54, 77],\n",
       "       [58, 32, 72,  5],\n",
       "       [85, 15, 38, 66],\n",
       "       [92, 77, 61, 82],\n",
       "       [59, 18, 18, 61],\n",
       "       [ 2, 73, 24, 59]])"
      ]
     },
     "execution_count": 57,
     "metadata": {},
     "output_type": "execute_result"
    }
   ],
   "source": [
    "x[0]"
   ]
  },
  {
   "cell_type": "code",
   "execution_count": 58,
   "id": "8f3ca8c6",
   "metadata": {},
   "outputs": [
    {
     "data": {
      "text/plain": [
       "array([[77,  5, 66, 82, 61, 59],\n",
       "       [90, 19, 94, 79, 85, 68],\n",
       "       [31,  3, 14, 45, 13, 61]])"
      ]
     },
     "execution_count": 58,
     "metadata": {},
     "output_type": "execute_result"
    }
   ],
   "source": [
    "x[:,:,-1]"
   ]
  },
  {
   "cell_type": "code",
   "execution_count": 59,
   "id": "3026c3f8",
   "metadata": {},
   "outputs": [
    {
     "data": {
      "text/plain": [
       "array([77,  5, 66, 82, 61, 59])"
      ]
     },
     "execution_count": 59,
     "metadata": {},
     "output_type": "execute_result"
    }
   ],
   "source": [
    "x[0,:,-1]"
   ]
  },
  {
   "cell_type": "code",
   "execution_count": 61,
   "id": "085cc889",
   "metadata": {},
   "outputs": [
    {
     "data": {
      "text/plain": [
       "array([[[77],\n",
       "        [ 5],\n",
       "        [66],\n",
       "        [82],\n",
       "        [61],\n",
       "        [59]],\n",
       "\n",
       "       [[90],\n",
       "        [19],\n",
       "        [94],\n",
       "        [79],\n",
       "        [85],\n",
       "        [68]],\n",
       "\n",
       "       [[31],\n",
       "        [ 3],\n",
       "        [14],\n",
       "        [45],\n",
       "        [13],\n",
       "        [61]]])"
      ]
     },
     "execution_count": 61,
     "metadata": {},
     "output_type": "execute_result"
    }
   ],
   "source": [
    "x[:,:,3:4]"
   ]
  },
  {
   "cell_type": "code",
   "execution_count": 62,
   "id": "f0724aa9",
   "metadata": {},
   "outputs": [
    {
     "data": {
      "text/plain": [
       "array([[77],\n",
       "       [ 5],\n",
       "       [66],\n",
       "       [82],\n",
       "       [61],\n",
       "       [59]])"
      ]
     },
     "execution_count": 62,
     "metadata": {},
     "output_type": "execute_result"
    }
   ],
   "source": [
    "x[0,:,3:4]"
   ]
  },
  {
   "cell_type": "code",
   "execution_count": null,
   "id": "923738af",
   "metadata": {},
   "outputs": [],
   "source": []
  }
 ],
 "metadata": {
  "kernelspec": {
   "display_name": "Python 3 (ipykernel)",
   "language": "python",
   "name": "python3"
  },
  "language_info": {
   "codemirror_mode": {
    "name": "ipython",
    "version": 3
   },
   "file_extension": ".py",
   "mimetype": "text/x-python",
   "name": "python",
   "nbconvert_exporter": "python",
   "pygments_lexer": "ipython3",
   "version": "3.9.7"
  }
 },
 "nbformat": 4,
 "nbformat_minor": 5
}
