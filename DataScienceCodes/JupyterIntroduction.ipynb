{
 "cells": [
  {
   "cell_type": "markdown",
   "id": "dc34e5ab",
   "metadata": {},
   "source": [
    "## Python Jupyter Introduction "
   ]
  },
  {
   "cell_type": "code",
   "execution_count": 1,
   "id": "a389b1be",
   "metadata": {},
   "outputs": [],
   "source": [
    "a = 12\n",
    "b = 21"
   ]
  },
  {
   "cell_type": "code",
   "execution_count": 2,
   "id": "87690f3c",
   "metadata": {},
   "outputs": [],
   "source": [
    "z = a + b"
   ]
  },
  {
   "cell_type": "code",
   "execution_count": 3,
   "id": "38489655",
   "metadata": {},
   "outputs": [
    {
     "name": "stdout",
     "output_type": "stream",
     "text": [
      "Sum is 33\n"
     ]
    }
   ],
   "source": [
    "print(\"Sum is\",z)"
   ]
  },
  {
   "cell_type": "code",
   "execution_count": null,
   "id": "f53205f5",
   "metadata": {},
   "outputs": [],
   "source": []
  }
 ],
 "metadata": {
  "kernelspec": {
   "display_name": "Python 3 (ipykernel)",
   "language": "python",
   "name": "python3"
  },
  "language_info": {
   "codemirror_mode": {
    "name": "ipython",
    "version": 3
   },
   "file_extension": ".py",
   "mimetype": "text/x-python",
   "name": "python",
   "nbconvert_exporter": "python",
   "pygments_lexer": "ipython3",
   "version": "3.9.7"
  }
 },
 "nbformat": 4,
 "nbformat_minor": 5
}
